{
 "cells": [
  {
   "cell_type": "markdown",
   "metadata": {},
   "source": [
    "## Data Wrangling\n",
    "\n",
    "[Basketball Reference](https://www.basketball-reference.com/) (much like Baseball and Hockey Reference) is an amazing website with regular and advanced statistics for basketball players. I found the awesome [basketball_reference_web_scraper](https://github.com/jaebradley/basketball_reference_web_scraper) Python package by @jaebradley and contributors that makes scraping the site easy via API and has equally awesome [documentation](https://jaebradley.github.io/basketball_reference_web_scraper/) and examples."
   ]
  },
  {
   "cell_type": "code",
   "execution_count": null,
   "metadata": {},
   "outputs": [],
   "source": [
    "from basketball_reference_web_scraper import client\n",
    "from basketball_reference_web_scraper.data import OutputType\n",
    "import pandas as pd\n",
    "from time import sleep\n",
    "import plotly.express as px\n",
    "from IPython.display import display, HTML"
   ]
  },
  {
   "cell_type": "code",
   "execution_count": null,
   "metadata": {},
   "outputs": [],
   "source": [
    "# Get regular and advanced player season stats \n",
    "data_reg = []\n",
    "data_adv = []\n",
    "years =  [2021]\n",
    "response_reg = []\n",
    "response_adv = []\n",
    "for year in years:\n",
    "    try:\n",
    "        #regular stats\n",
    "        data_reg = pd.read_json(client.players_season_totals(season_end_year=year, \n",
    "                                                             output_type=OutputType.JSON))\n",
    "        data_reg['season_end_year'] = year\n",
    "        response_reg.append(data_reg)\n",
    "        #advanced stats\n",
    "        data_adv = pd.read_json(client.players_advanced_season_totals(season_end_year=year, \n",
    "                                                                  output_type=OutputType.JSON))\n",
    "        data_adv['season_end_year'] = year\n",
    "        response_adv.append(data_adv)     \n",
    "    except:\n",
    "        pass\n",
    "\n",
    "combined_reg = pd.concat(response_reg)\n",
    "combined_adv = pd.concat(response_adv)\n",
    "keep_columns = combined_adv.columns.difference(combined_reg.columns)\n",
    "player_stats_combined = pd.concat([combined_reg, combined_adv[keep_columns]], axis=1)\n",
    "#player_stats_combined.to_csv('player_stats_combined-2018-2020.csv', index=False)"
   ]
  },
  {
   "cell_type": "code",
   "execution_count": null,
   "metadata": {},
   "outputs": [],
   "source": [
    "player_stats_combined.columns"
   ]
  },
  {
   "cell_type": "code",
   "execution_count": null,
   "metadata": {},
   "outputs": [],
   "source": [
    "# WIP\n",
    "# Game boxscores for each player by season\n",
    "# data = []\n",
    "# player_boxscores = []\n",
    "# players = []\n",
    "# players = list(player_stats_combined['slug'])\n",
    "# years =  [2021]\n",
    "# response = []\n",
    "# for year in years:\n",
    "#     for player in players:\n",
    "#         try:\n",
    "#             data = pd.read_json(client.regular_season_player_box_scores(player_identifier=player, \n",
    "#                                                                     season_end_year=year, \n",
    "#                                                                     output_type=OutputType.JSON))\n",
    "#             data['slug'] = player\n",
    "#             data['season_end_year'] = year\n",
    "#             response.append(data)\n",
    "#         except:\n",
    "#             pass\n",
    "#     sleep(4)    \n",
    "    \n",
    "    \n",
    "# player_boxscores = pd.concat(response)\n",
    "#player_boxscores.to_csv('player_boxscores-2018-2020.csv', index=False)"
   ]
  },
  {
   "cell_type": "markdown",
   "metadata": {},
   "source": [
    "# Data Analysis"
   ]
  },
  {
   "cell_type": "code",
   "execution_count": null,
   "metadata": {},
   "outputs": [],
   "source": [
    "# Fantasy categories\n",
    "## FG%, FT%, 3PTM, PTS, Total REB, AST, ST, BLK, TO\n",
    "#player_stats_combined = pd.read_csv('player_stats_combined-2018-2020.csv')"
   ]
  },
  {
   "cell_type": "code",
   "execution_count": null,
   "metadata": {},
   "outputs": [],
   "source": [
    "player_stats_combined.columns"
   ]
  },
  {
   "cell_type": "code",
   "execution_count": null,
   "metadata": {},
   "outputs": [],
   "source": [
    "## Relevant fantasy categories FG%, FT%, 3PTM, PTS, Total REB, AST, ST, BLK, TO\n",
    "## Calculating non-percent fantasy cateogories combined values\n",
    "player_stats_combined['fantasy_points'] = (player_stats_combined['made_three_point_field_goals']+\n",
    "                                           player_stats_combined['points']+\n",
    "                                           player_stats_combined['offensive_rebounds']+\n",
    "                                           player_stats_combined['defensive_rebounds']+\n",
    "                                           player_stats_combined['assists']+\n",
    "                                           player_stats_combined['steals']+\n",
    "                                           player_stats_combined['blocks']-\n",
    "                                           player_stats_combined['turnovers'])\n",
    "player_stats_combined['fantasy_points_gm'] = player_stats_combined['fantasy_points']/player_stats_combined['games_played']\n",
    "player_stats_combined['fantasy_points_per36min'] = player_stats_combined['fantasy_points']/player_stats_combined['minutes_played']*36\n",
    "player_stats_combined['season_end_year'] = player_stats_combined['season_end_year'].astype(str)"
   ]
  },
  {
   "cell_type": "code",
   "execution_count": null,
   "metadata": {},
   "outputs": [],
   "source": [
    "## Filtering data \n",
    "# minutes based on 25% quartile of all data and true shooting percentage at median\n",
    "print(len(player_stats_combined))\n",
    "print(player_stats_combined['minutes_played'].describe())\n",
    "print(player_stats_combined['true_shooting_percentage'].describe())"
   ]
  },
  {
   "cell_type": "code",
   "execution_count": null,
   "metadata": {},
   "outputs": [],
   "source": [
    "# true shooting percentage\n",
    "## Prioritize players who excel in this stat. \n",
    "## A .500 TS% is about average, .550 is very good, and anything over .600 is exceptional.\n",
    "player_stats_combined_filter = pd.DataFrame\n",
    "player_stats_combined_filter = player_stats_combined[(player_stats_combined['minutes_played']>=55.75) & \n",
    "                                                     (player_stats_combined['true_shooting_percentage']>=0.474)]\n",
    "display(HTML(player_stats_combined_filter.sort_values(by=['fantasy_points'],ascending=False,ignore_index=True).to_html()))"
   ]
  },
  {
   "cell_type": "code",
   "execution_count": null,
   "metadata": {
    "scrolled": false
   },
   "outputs": [],
   "source": [
    "# random data visualization and exploration\n",
    "fig = px.scatter(player_stats_combined_filter,\n",
    "                 x='age',\n",
    "                 y='fantasy_points',\n",
    "                 color='fantasy_points_per36min',\n",
    "                 color_discrete_sequence= px.colors.qualitative.G10,\n",
    "                 hover_name='name',\n",
    "                 hover_data=['season_end_year','true_shooting_percentage','win_shares'])\n",
    "fig.show()"
   ]
  },
  {
   "cell_type": "code",
   "execution_count": null,
   "metadata": {},
   "outputs": [],
   "source": [
    "# random data visualization and exploration\n",
    "fig2 = px.scatter(player_stats_combined_filter,\n",
    "                 x='win_shares',\n",
    "                 y='fantasy_points',\n",
    "                 color='age',\n",
    "                 facet_col='season_end_year',\n",
    "                 color_discrete_sequence= px.colors.qualitative.G10,\n",
    "                 hover_name='name',\n",
    "                 hover_data=['season_end_year','true_shooting_percentage','games_played'])\n",
    "fig2.show()"
   ]
  },
  {
   "cell_type": "code",
   "execution_count": null,
   "metadata": {},
   "outputs": [],
   "source": [
    "#player_stats_combined_filter.sort_values(by='fantasy_points', ascending=False).to_csv('player_stats_combined-2018-2020.csv', index=False)\n",
    "player_stats_combined_filter.to_csv('player_stats_combined_filter-2018-2020.csv', index=False)\n"
   ]
  },
  {
   "cell_type": "code",
   "execution_count": null,
   "metadata": {},
   "outputs": [],
   "source": [
    "# Who to keep?\n",
    "## folks on my team from last year ... who to keep?\n",
    "player_list = ['gilgesh01','siakapa01','foxde01',\n",
    "               'russeda01','holidjr01','brownja02',\n",
    "               'loveke01','lopezbr01','bogdabo01',\n",
    "               'schrode01','bridgmi02','beaslma01']\n",
    "\n",
    "player_stats_combined_filter_team = pd.DataFrame()\n",
    "player_stats_combined_filter_team = player_stats_combined_filter[player_stats_combined_filter['slug'].isin(player_list)]\n",
    "\n",
    "fig3 = px.scatter(player_stats_combined_filter_team,\n",
    "                 x='season_end_year',\n",
    "                 y='fantasy_points',\n",
    "                 color='age',\n",
    "                 facet_col='slug',\n",
    "                 facet_col_wrap=4,\n",
    "                 color_discrete_sequence= px.colors.qualitative.G10,\n",
    "                 hover_name='name',\n",
    "                 hover_data=['season_end_year','true_shooting_percentage','win_shares','games_played'])\n",
    "fig3.show()\n"
   ]
  },
  {
   "cell_type": "code",
   "execution_count": null,
   "metadata": {},
   "outputs": [],
   "source": [
    "# Miscellaneous Player Lookup\n",
    "## Kat, Steph Curry, Nikola Vucebic, Blake Griffin, \n",
    "## AVOID LBJ, Kawhi, Joel, KD, Kyrie, Kemba, Russ, ChrisPaul, Jimmy Butler, Kristaps, Jaren JacksonJR, \n",
    "player_list = ['bogdabo01','grantje01','conlemi01','smartma01','horfoal01',\n",
    "              'randlju01','allenja01']\n",
    "\n",
    "player_stats_combined_select = pd.DataFrame()\n",
    "player_stats_combined_select = player_stats_combined_filter[player_stats_combined_filter['slug'].isin(player_list)]\n",
    "\n",
    "fig4 = px.scatter(player_stats_combined_select,\n",
    "                 x='season_end_year',\n",
    "                 y='fantasy_points',\n",
    "                 color='age',\n",
    "                 facet_col='slug',\n",
    "                 facet_col_wrap=4,\n",
    "                 color_discrete_sequence= px.colors.qualitative.G10,\n",
    "                 hover_name='name',\n",
    "                 hover_data=['season_end_year','true_shooting_percentage','win_shares','games_played'])\n",
    "fig4.show()\n",
    "\n"
   ]
  },
  {
   "cell_type": "code",
   "execution_count": null,
   "metadata": {},
   "outputs": [],
   "source": [
    "# TO DO - combine dataframes and make use of game by game boxscores \n",
    "## - Add some functionality to make things more robust and add some features like\n",
    "## - easily look up a player of interest, dynamic filtering, and some predictions \n",
    "## (game, season, who to pick during a draft)."
   ]
  }
 ],
 "metadata": {
  "kernelspec": {
   "display_name": "Python 3",
   "language": "python",
   "name": "python3"
  },
  "language_info": {
   "codemirror_mode": {
    "name": "ipython",
    "version": 3
   },
   "file_extension": ".py",
   "mimetype": "text/x-python",
   "name": "python",
   "nbconvert_exporter": "python",
   "pygments_lexer": "ipython3",
   "version": "3.6.6"
  },
  "nbTranslate": {
   "displayLangs": [
    "*"
   ],
   "hotkey": "alt-t",
   "langInMainMenu": true,
   "sourceLang": "en",
   "targetLang": "fr",
   "useGoogleTranslate": true
  }
 },
 "nbformat": 4,
 "nbformat_minor": 2
}
